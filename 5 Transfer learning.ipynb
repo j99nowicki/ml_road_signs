{
 "cells": [
  {
   "cell_type": "markdown",
   "metadata": {},
   "source": [
    "# 5 Transfer learning"
   ]
  },
  {
   "cell_type": "markdown",
   "metadata": {},
   "source": [
    "Total run time ~30 min."
   ]
  },
  {
   "cell_type": "markdown",
   "metadata": {},
   "source": [
    "### 1. Import dependencies"
   ]
  },
  {
   "cell_type": "code",
   "execution_count": 1,
   "metadata": {},
   "outputs": [],
   "source": [
    "%load_ext autoreload\n",
    "%autoreload\n",
    "%matplotlib inline"
   ]
  },
  {
   "cell_type": "code",
   "execution_count": 2,
   "metadata": {},
   "outputs": [],
   "source": [
    "import numpy as np\n",
    "import pandas as pd\n",
    "import matplotlib.pyplot as plt\n",
    "import torch\n",
    "from torchvision import datasets, models, transforms\n",
    "from torchvision.utils import make_grid\n",
    "import torch.utils.data.sampler as sampler\n",
    "import torch.nn as nn\n",
    "from torch.nn import functional as F\n",
    "import torch.optim as optim\n",
    "from tqdm.notebook import trange, tqdm\n",
    "from PIL import Image"
   ]
  },
  {
   "cell_type": "code",
   "execution_count": 3,
   "metadata": {},
   "outputs": [
    {
     "name": "stdout",
     "output_type": "stream",
     "text": [
      "2020-05-20 10:16:06.185499\n"
     ]
    }
   ],
   "source": [
    "import datetime\n",
    "currentDT = datetime.datetime.now()\n",
    "print (str(currentDT))"
   ]
  },
  {
   "cell_type": "code",
   "execution_count": 4,
   "metadata": {},
   "outputs": [
    {
     "data": {
      "text/plain": [
       "'1.4.0'"
      ]
     },
     "execution_count": 4,
     "metadata": {},
     "output_type": "execute_result"
    }
   ],
   "source": [
    "torch.__version__"
   ]
  },
  {
   "cell_type": "markdown",
   "metadata": {},
   "source": [
    "### 2. Create PyTorch data generators"
   ]
  },
  {
   "cell_type": "code",
   "execution_count": 5,
   "metadata": {},
   "outputs": [],
   "source": [
    "seed = 0\n",
    "torch.manual_seed(seed)\n",
    "if torch.cuda.is_available():\n",
    "    torch.cuda.manual_seed_all(seed)"
   ]
  },
  {
   "cell_type": "code",
   "execution_count": 6,
   "metadata": {},
   "outputs": [],
   "source": [
    "device = torch.device(\"cuda:0\" if torch.cuda.is_available() else \"cpu\")"
   ]
  },
  {
   "cell_type": "code",
   "execution_count": 7,
   "metadata": {},
   "outputs": [],
   "source": [
    "class WrappedDataLoader:\n",
    "    def __init__(self, dl, func):\n",
    "        self.dl = dl\n",
    "        self.func = func\n",
    "\n",
    "    def __len__(self):\n",
    "        return len(self.dl)\n",
    "\n",
    "    def __iter__(self):\n",
    "        batches = iter(self.dl)\n",
    "        for b in batches:\n",
    "            yield (self.func(*b))\n",
    "device = torch.device(\"cuda\" if torch.cuda.is_available() else \"cpu\")\n",
    "def to_device(x, y):\n",
    "    return x.to(device), y.to(device, dtype=torch.int64)"
   ]
  },
  {
   "cell_type": "code",
   "execution_count": 8,
   "metadata": {},
   "outputs": [],
   "source": [
    "# define dataloader parameters\n",
    "batch_size = 64\n",
    "num_workers_train = 2\n",
    "num_workers_validation = 4\n",
    "num_workers_test = 4\n",
    "normalize = transforms.Normalize(mean=[0.485, 0.456, 0.406],\n",
    "                                 std=[0.229, 0.224, 0.225])\n",
    "data_transform = transforms.Compose([\n",
    "        transforms.Resize((224,224)),\n",
    "#        transforms.Grayscale(1),\n",
    "        transforms.RandomApply([\n",
    "            transforms.RandomAffine(0, translate=(0.2, 0.2), resample=Image.BICUBIC),\n",
    "            transforms.RandomAffine(0, shear=20, resample=Image.BICUBIC),\n",
    "            transforms.RandomAffine(0, scale=(0.8, 1.2), resample=Image.BICUBIC)\n",
    "        ]), \n",
    "#        transforms.RandomRotation(15),\n",
    "        transforms.ToTensor(),\n",
    "        normalize\n",
    "])\n",
    "\n",
    "data_transform_test = transforms.Compose([\n",
    "        transforms.Resize((224,224)),\n",
    "#        transforms.Grayscale(1),\n",
    "        transforms.ToTensor(),\n",
    "        normalize\n",
    "])\n",
    "\n",
    "image_datasets = {\n",
    "    'train':\n",
    "        datasets.ImageFolder('./source_data_2/train/', data_transform),\n",
    "    'validation': \n",
    "        datasets.ImageFolder('./source_data_2/valid/', data_transform),\n",
    "    'test': \n",
    "        datasets.ImageFolder('./source_data_2/test/', data_transform_test)\n",
    "}\n",
    "\n",
    "a = torch.utils.data.DataLoader(image_datasets['train'],\n",
    "                                batch_size=batch_size,\n",
    "                                shuffle=True, num_workers=num_workers_train)\n",
    "b = torch.utils.data.DataLoader(image_datasets['validation'],\n",
    "                                batch_size=batch_size,\n",
    "                                shuffle=False, num_workers=num_workers_validation)\n",
    "c = torch.utils.data.DataLoader(image_datasets['test'],\n",
    "                                batch_size=batch_size,\n",
    "                                shuffle=False, num_workers=num_workers_test)\n",
    "\n",
    "dataloaders = {\n",
    "    'train':\n",
    "    WrappedDataLoader(a, to_device),\n",
    "    'validation':\n",
    "    WrappedDataLoader(b, to_device),\n",
    "    'test':\n",
    "    WrappedDataLoader(c, to_device)\n",
    "}"
   ]
  },
  {
   "cell_type": "code",
   "execution_count": 9,
   "metadata": {},
   "outputs": [],
   "source": [
    "#calculate sample weights\n",
    "#train_size = datasize = len(image_datasets['train'])\n",
    "train_size = 43 * 15000\n",
    "\n",
    "def get_weighted_loader():\n",
    "    class_sample_count = pd.read_csv('sign_count.csv')['count'].to_numpy()\n",
    "    class_weights = 1 / class_sample_count\n",
    "    class_id=0\n",
    "    sample_weights = list()\n",
    "    for class_weight in class_weights:\n",
    "        sample_weights += ([class_weight] * class_sample_count[class_id])\n",
    "        class_id += 1\n",
    "\n",
    "    #replace train dataset\n",
    "    samp = sampler.WeightedRandomSampler(sample_weights, train_size)\n",
    "    a = torch.utils.data.DataLoader(image_datasets['train'],\n",
    "                                    batch_size=batch_size,\n",
    "                                    num_workers=num_workers_train, sampler=samp)\n",
    "    return WrappedDataLoader(a, to_device)\n",
    "\n",
    "dataloaders['train'] = get_weighted_loader()"
   ]
  },
  {
   "cell_type": "markdown",
   "metadata": {},
   "source": [
    "### Training and evaluation source code"
   ]
  },
  {
   "cell_type": "code",
   "execution_count": 10,
   "metadata": {},
   "outputs": [],
   "source": [
    "def train_model(model, criterion, optimizer, num_epochs=3):\n",
    "    for epoch in range(num_epochs):\n",
    "        print('Epoch {}/{}'.format(epoch+1, num_epochs))\n",
    "        print('-' * 10)\n",
    "\n",
    "        for phase in ['train', 'validation']:\n",
    "            datasize = len(image_datasets[phase])\n",
    "            if phase == 'train':\n",
    "                datasize = train_size\n",
    "                model.train()\n",
    "            else:\n",
    "                model.eval()\n",
    "\n",
    "            running_loss = 0.0\n",
    "            running_corrects = 0\n",
    "            train_loss = 0.0\n",
    "            i = 0\n",
    "\n",
    "            for inputs, labels in dataloaders[phase]:\n",
    "                inputs = inputs.to(device)\n",
    "                labels = labels.to(device)\n",
    "\n",
    "                outputs = model(inputs)\n",
    "                loss = criterion(outputs, labels)\n",
    "\n",
    "                if phase == 'train':\n",
    "                    optimizer.zero_grad()\n",
    "                    loss.backward()\n",
    "                    optimizer.step()\n",
    "\n",
    "                _, preds = torch.max(outputs, 1)\n",
    "                running_loss += loss.detach() * inputs.size(0)\n",
    "                running_corrects += torch.sum(preds == labels.data)                                \n",
    "\n",
    "                epoch_loss = running_loss / datasize\n",
    "                epoch_acc = running_corrects.float() / datasize\n",
    "                train_loss += loss.item()\n",
    "                if i % 500 == 499:\n",
    "                    print('phase: {}, batch: {}, loss: {:.4f}, train_loss: {:.4f}, acc: {:.4f}'.format(phase,\n",
    "                                                                        i+1,\n",
    "                                                                        epoch_loss.item(),\n",
    "                                                                        train_loss / 500,\n",
    "                                                                        epoch_acc.item()))\n",
    "                    train_loss = 0.0\n",
    "                i += 1\n",
    "\n",
    "\n",
    "            print('{} loss: {:.4f}, acc: {:.4f}'.format(phase,\n",
    "                                                        epoch_loss.item(),\n",
    "                                                        epoch_acc.item()))\n",
    "    return model"
   ]
  },
  {
   "cell_type": "code",
   "execution_count": 11,
   "metadata": {},
   "outputs": [],
   "source": [
    "def loss_batch(model, loss_func, x, y, opt=None):\n",
    "    loss = loss_func(model(x), y)\n",
    "    \n",
    "    if opt is not None:\n",
    "        loss.backward()\n",
    "        opt.step()\n",
    "        opt.zero_grad()\n",
    "\n",
    "    return loss.item(), len(x)\n"
   ]
  },
  {
   "cell_type": "code",
   "execution_count": 12,
   "metadata": {},
   "outputs": [],
   "source": [
    "def valid_batch(model, loss_func, x, y):\n",
    "    output = model(x)\n",
    "    loss = loss_func(output, y)\n",
    "    pred = torch.argmax(output, dim=1)\n",
    "    correct = pred == y.view(*pred.shape)\n",
    "    \n",
    "    return loss.item(), torch.sum(correct).item(), len(x)\n",
    "\n"
   ]
  },
  {
   "cell_type": "code",
   "execution_count": 13,
   "metadata": {},
   "outputs": [],
   "source": [
    "def evaluate(model, loss_func, dl):\n",
    "    model.eval()\n",
    "    with torch.no_grad():\n",
    "        losses, corrects, nums = zip(*[valid_batch(model, loss_func, x, y) for x, y in dl])\n",
    "        test_loss = np.sum(np.multiply(losses, nums)) / np.sum(nums)\n",
    "        test_accuracy = np.sum(corrects) / np.sum(nums) * 100\n",
    "        \n",
    "    print(f\"Test loss: {test_loss:.6f}\\t\"\n",
    "          f\"Test accruacy: {test_accuracy:.3f}%\")"
   ]
  },
  {
   "cell_type": "markdown",
   "metadata": {},
   "source": [
    "### 3. Downlaod pre-trained model and adopt classifier "
   ]
  },
  {
   "cell_type": "code",
   "execution_count": 14,
   "metadata": {},
   "outputs": [
    {
     "name": "stderr",
     "output_type": "stream",
     "text": [
      "Downloading: \"https://download.pytorch.org/models/resnet18-5c106cde.pth\" to /home/ec2-user/.cache/torch/checkpoints/resnet18-5c106cde.pth\n"
     ]
    },
    {
     "data": {
      "application/vnd.jupyter.widget-view+json": {
       "model_id": "4aa27b8303424b9e9b980bb4c6b762ee",
       "version_major": 2,
       "version_minor": 0
      },
      "text/plain": [
       "HBox(children=(FloatProgress(value=0.0, max=46827520.0), HTML(value='')))"
      ]
     },
     "metadata": {},
     "output_type": "display_data"
    },
    {
     "name": "stdout",
     "output_type": "stream",
     "text": [
      "\n"
     ]
    }
   ],
   "source": [
    "model = models.resnet18(pretrained=True).to(device)"
   ]
  },
  {
   "cell_type": "code",
   "execution_count": 15,
   "metadata": {},
   "outputs": [
    {
     "name": "stdout",
     "output_type": "stream",
     "text": [
      "ResNet(\n",
      "  (conv1): Conv2d(3, 64, kernel_size=(7, 7), stride=(2, 2), padding=(3, 3), bias=False)\n",
      "  (bn1): BatchNorm2d(64, eps=1e-05, momentum=0.1, affine=True, track_running_stats=True)\n",
      "  (relu): ReLU(inplace=True)\n",
      "  (maxpool): MaxPool2d(kernel_size=3, stride=2, padding=1, dilation=1, ceil_mode=False)\n",
      "  (layer1): Sequential(\n",
      "    (0): BasicBlock(\n",
      "      (conv1): Conv2d(64, 64, kernel_size=(3, 3), stride=(1, 1), padding=(1, 1), bias=False)\n",
      "      (bn1): BatchNorm2d(64, eps=1e-05, momentum=0.1, affine=True, track_running_stats=True)\n",
      "      (relu): ReLU(inplace=True)\n",
      "      (conv2): Conv2d(64, 64, kernel_size=(3, 3), stride=(1, 1), padding=(1, 1), bias=False)\n",
      "      (bn2): BatchNorm2d(64, eps=1e-05, momentum=0.1, affine=True, track_running_stats=True)\n",
      "    )\n",
      "    (1): BasicBlock(\n",
      "      (conv1): Conv2d(64, 64, kernel_size=(3, 3), stride=(1, 1), padding=(1, 1), bias=False)\n",
      "      (bn1): BatchNorm2d(64, eps=1e-05, momentum=0.1, affine=True, track_running_stats=True)\n",
      "      (relu): ReLU(inplace=True)\n",
      "      (conv2): Conv2d(64, 64, kernel_size=(3, 3), stride=(1, 1), padding=(1, 1), bias=False)\n",
      "      (bn2): BatchNorm2d(64, eps=1e-05, momentum=0.1, affine=True, track_running_stats=True)\n",
      "    )\n",
      "  )\n",
      "  (layer2): Sequential(\n",
      "    (0): BasicBlock(\n",
      "      (conv1): Conv2d(64, 128, kernel_size=(3, 3), stride=(2, 2), padding=(1, 1), bias=False)\n",
      "      (bn1): BatchNorm2d(128, eps=1e-05, momentum=0.1, affine=True, track_running_stats=True)\n",
      "      (relu): ReLU(inplace=True)\n",
      "      (conv2): Conv2d(128, 128, kernel_size=(3, 3), stride=(1, 1), padding=(1, 1), bias=False)\n",
      "      (bn2): BatchNorm2d(128, eps=1e-05, momentum=0.1, affine=True, track_running_stats=True)\n",
      "      (downsample): Sequential(\n",
      "        (0): Conv2d(64, 128, kernel_size=(1, 1), stride=(2, 2), bias=False)\n",
      "        (1): BatchNorm2d(128, eps=1e-05, momentum=0.1, affine=True, track_running_stats=True)\n",
      "      )\n",
      "    )\n",
      "    (1): BasicBlock(\n",
      "      (conv1): Conv2d(128, 128, kernel_size=(3, 3), stride=(1, 1), padding=(1, 1), bias=False)\n",
      "      (bn1): BatchNorm2d(128, eps=1e-05, momentum=0.1, affine=True, track_running_stats=True)\n",
      "      (relu): ReLU(inplace=True)\n",
      "      (conv2): Conv2d(128, 128, kernel_size=(3, 3), stride=(1, 1), padding=(1, 1), bias=False)\n",
      "      (bn2): BatchNorm2d(128, eps=1e-05, momentum=0.1, affine=True, track_running_stats=True)\n",
      "    )\n",
      "  )\n",
      "  (layer3): Sequential(\n",
      "    (0): BasicBlock(\n",
      "      (conv1): Conv2d(128, 256, kernel_size=(3, 3), stride=(2, 2), padding=(1, 1), bias=False)\n",
      "      (bn1): BatchNorm2d(256, eps=1e-05, momentum=0.1, affine=True, track_running_stats=True)\n",
      "      (relu): ReLU(inplace=True)\n",
      "      (conv2): Conv2d(256, 256, kernel_size=(3, 3), stride=(1, 1), padding=(1, 1), bias=False)\n",
      "      (bn2): BatchNorm2d(256, eps=1e-05, momentum=0.1, affine=True, track_running_stats=True)\n",
      "      (downsample): Sequential(\n",
      "        (0): Conv2d(128, 256, kernel_size=(1, 1), stride=(2, 2), bias=False)\n",
      "        (1): BatchNorm2d(256, eps=1e-05, momentum=0.1, affine=True, track_running_stats=True)\n",
      "      )\n",
      "    )\n",
      "    (1): BasicBlock(\n",
      "      (conv1): Conv2d(256, 256, kernel_size=(3, 3), stride=(1, 1), padding=(1, 1), bias=False)\n",
      "      (bn1): BatchNorm2d(256, eps=1e-05, momentum=0.1, affine=True, track_running_stats=True)\n",
      "      (relu): ReLU(inplace=True)\n",
      "      (conv2): Conv2d(256, 256, kernel_size=(3, 3), stride=(1, 1), padding=(1, 1), bias=False)\n",
      "      (bn2): BatchNorm2d(256, eps=1e-05, momentum=0.1, affine=True, track_running_stats=True)\n",
      "    )\n",
      "  )\n",
      "  (layer4): Sequential(\n",
      "    (0): BasicBlock(\n",
      "      (conv1): Conv2d(256, 512, kernel_size=(3, 3), stride=(2, 2), padding=(1, 1), bias=False)\n",
      "      (bn1): BatchNorm2d(512, eps=1e-05, momentum=0.1, affine=True, track_running_stats=True)\n",
      "      (relu): ReLU(inplace=True)\n",
      "      (conv2): Conv2d(512, 512, kernel_size=(3, 3), stride=(1, 1), padding=(1, 1), bias=False)\n",
      "      (bn2): BatchNorm2d(512, eps=1e-05, momentum=0.1, affine=True, track_running_stats=True)\n",
      "      (downsample): Sequential(\n",
      "        (0): Conv2d(256, 512, kernel_size=(1, 1), stride=(2, 2), bias=False)\n",
      "        (1): BatchNorm2d(512, eps=1e-05, momentum=0.1, affine=True, track_running_stats=True)\n",
      "      )\n",
      "    )\n",
      "    (1): BasicBlock(\n",
      "      (conv1): Conv2d(512, 512, kernel_size=(3, 3), stride=(1, 1), padding=(1, 1), bias=False)\n",
      "      (bn1): BatchNorm2d(512, eps=1e-05, momentum=0.1, affine=True, track_running_stats=True)\n",
      "      (relu): ReLU(inplace=True)\n",
      "      (conv2): Conv2d(512, 512, kernel_size=(3, 3), stride=(1, 1), padding=(1, 1), bias=False)\n",
      "      (bn2): BatchNorm2d(512, eps=1e-05, momentum=0.1, affine=True, track_running_stats=True)\n",
      "    )\n",
      "  )\n",
      "  (avgpool): AdaptiveAvgPool2d(output_size=(1, 1))\n",
      "  (fc): Linear(in_features=512, out_features=1000, bias=True)\n",
      ")\n"
     ]
    }
   ],
   "source": [
    "print(model)"
   ]
  },
  {
   "cell_type": "code",
   "execution_count": 16,
   "metadata": {},
   "outputs": [],
   "source": [
    "#model.fc = nn.Sequential(\n",
    "#               nn.Linear(2048, 128),\n",
    "#               nn.ReLU(inplace=True),\n",
    "#               nn.Linear(128, 43)).to(device)\n",
    "\n",
    "for param in model.parameters():\n",
    "    param.requires_grad = False   \n",
    "model.fc = nn.Linear(512, 43).to(device)"
   ]
  },
  {
   "cell_type": "code",
   "execution_count": 17,
   "metadata": {},
   "outputs": [],
   "source": [
    "# applies weights to fully connected layer\n",
    "def weights_init_normal(m):\n",
    "    classname = m.__class__.__name__\n",
    "    # for every Linear layer in a model\n",
    "    if classname.find('Linear') != -1:\n",
    "        # get number of inputs\n",
    "        n = m.in_features\n",
    "        y = (1.0/np.sqrt(n))\n",
    "        m.weight.data.normal_(0, y)\n",
    "        m.bias.data.fill_(0)\n",
    "\n",
    "# Initialize classifier\n",
    "weights_init_normal(model.fc)"
   ]
  },
  {
   "cell_type": "code",
   "execution_count": 18,
   "metadata": {},
   "outputs": [],
   "source": [
    "torch.save(model.state_dict(), 'res_18.start')\n",
    "#model.load_state_dict(torch.load('res_18.start'))"
   ]
  },
  {
   "cell_type": "code",
   "execution_count": 19,
   "metadata": {},
   "outputs": [],
   "source": [
    "criterion = nn.CrossEntropyLoss()\n",
    "optimizer = optim.Adam(model.fc.parameters(), lr=1e-3)"
   ]
  },
  {
   "cell_type": "markdown",
   "metadata": {},
   "source": [
    "### 4. Train the model"
   ]
  },
  {
   "cell_type": "code",
   "execution_count": 20,
   "metadata": {},
   "outputs": [
    {
     "name": "stdout",
     "output_type": "stream",
     "text": [
      "Epoch 1/4\n",
      "----------\n",
      "phase: train, batch: 500, loss: 0.0944, train_loss: 1.9029, acc: 0.0243\n",
      "phase: train, batch: 1000, loss: 0.1477, train_loss: 1.0735, acc: 0.0585\n",
      "phase: train, batch: 1500, loss: 0.1922, train_loss: 0.8984, acc: 0.0947\n",
      "phase: train, batch: 2000, loss: 0.2323, train_loss: 0.8075, acc: 0.1321\n",
      "phase: train, batch: 2500, loss: 0.2693, train_loss: 0.7451, acc: 0.1703\n",
      "phase: train, batch: 3000, loss: 0.3045, train_loss: 0.7098, acc: 0.2089\n",
      "phase: train, batch: 3500, loss: 0.3381, train_loss: 0.6775, acc: 0.2478\n",
      "phase: train, batch: 4000, loss: 0.3701, train_loss: 0.6460, acc: 0.2871\n",
      "phase: train, batch: 4500, loss: 0.4019, train_loss: 0.6404, acc: 0.3265\n",
      "phase: train, batch: 5000, loss: 0.4323, train_loss: 0.6115, acc: 0.3662\n",
      "phase: train, batch: 5500, loss: 0.4622, train_loss: 0.6027, acc: 0.4062\n",
      "phase: train, batch: 6000, loss: 0.4918, train_loss: 0.5974, acc: 0.4462\n",
      "phase: train, batch: 6500, loss: 0.5214, train_loss: 0.5958, acc: 0.4861\n",
      "phase: train, batch: 7000, loss: 0.5502, train_loss: 0.5808, acc: 0.5262\n",
      "phase: train, batch: 7500, loss: 0.5784, train_loss: 0.5683, acc: 0.5666\n",
      "phase: train, batch: 8000, loss: 0.6058, train_loss: 0.5523, acc: 0.6071\n",
      "phase: train, batch: 8500, loss: 0.6336, train_loss: 0.5619, acc: 0.6474\n",
      "phase: train, batch: 9000, loss: 0.6610, train_loss: 0.5524, acc: 0.6880\n",
      "phase: train, batch: 9500, loss: 0.6881, train_loss: 0.5444, acc: 0.7287\n",
      "phase: train, batch: 10000, loss: 0.7150, train_loss: 0.5435, acc: 0.7694\n",
      "train loss: 0.7193, acc: 0.7757\n",
      "validation loss: 0.8898, acc: 0.7183\n",
      "Epoch 2/4\n",
      "----------\n",
      "phase: train, batch: 500, loss: 0.0266, train_loss: 0.5357, acc: 0.0409\n",
      "phase: train, batch: 1000, loss: 0.0534, train_loss: 0.5397, acc: 0.0816\n",
      "phase: train, batch: 1500, loss: 0.0792, train_loss: 0.5201, acc: 0.1227\n",
      "phase: train, batch: 2000, loss: 0.1054, train_loss: 0.5299, acc: 0.1636\n",
      "phase: train, batch: 2500, loss: 0.1317, train_loss: 0.5285, acc: 0.2046\n",
      "phase: train, batch: 3000, loss: 0.1575, train_loss: 0.5202, acc: 0.2456\n",
      "phase: train, batch: 3500, loss: 0.1833, train_loss: 0.5197, acc: 0.2868\n",
      "phase: train, batch: 4000, loss: 0.2092, train_loss: 0.5233, acc: 0.3277\n",
      "phase: train, batch: 4500, loss: 0.2345, train_loss: 0.5102, acc: 0.3688\n",
      "phase: train, batch: 5000, loss: 0.2598, train_loss: 0.5102, acc: 0.4099\n",
      "phase: train, batch: 5500, loss: 0.2849, train_loss: 0.5042, acc: 0.4511\n",
      "phase: train, batch: 6000, loss: 0.3098, train_loss: 0.5032, acc: 0.4924\n",
      "phase: train, batch: 6500, loss: 0.3347, train_loss: 0.5021, acc: 0.5336\n",
      "phase: train, batch: 7000, loss: 0.3601, train_loss: 0.5118, acc: 0.5748\n",
      "phase: train, batch: 7500, loss: 0.3848, train_loss: 0.4971, acc: 0.6162\n",
      "phase: train, batch: 8000, loss: 0.4101, train_loss: 0.5109, acc: 0.6573\n",
      "phase: train, batch: 8500, loss: 0.4343, train_loss: 0.4871, acc: 0.6988\n",
      "phase: train, batch: 9000, loss: 0.4587, train_loss: 0.4912, acc: 0.7403\n",
      "phase: train, batch: 9500, loss: 0.4830, train_loss: 0.4905, acc: 0.7817\n",
      "phase: train, batch: 10000, loss: 0.5075, train_loss: 0.4936, acc: 0.8231\n",
      "train loss: 0.5112, acc: 0.8296\n",
      "validation loss: 0.8679, acc: 0.7336\n",
      "Epoch 3/4\n",
      "----------\n",
      "phase: train, batch: 500, loss: 0.0243, train_loss: 0.4908, acc: 0.0415\n",
      "phase: train, batch: 1000, loss: 0.0487, train_loss: 0.4899, acc: 0.0830\n",
      "phase: train, batch: 1500, loss: 0.0725, train_loss: 0.4816, acc: 0.1245\n",
      "phase: train, batch: 2000, loss: 0.0968, train_loss: 0.4890, acc: 0.1660\n",
      "phase: train, batch: 2500, loss: 0.1212, train_loss: 0.4916, acc: 0.2074\n",
      "phase: train, batch: 3000, loss: 0.1458, train_loss: 0.4963, acc: 0.2488\n",
      "phase: train, batch: 3500, loss: 0.1694, train_loss: 0.4756, acc: 0.2904\n",
      "phase: train, batch: 4000, loss: 0.1937, train_loss: 0.4903, acc: 0.3319\n",
      "phase: train, batch: 4500, loss: 0.2180, train_loss: 0.4894, acc: 0.3734\n",
      "phase: train, batch: 5000, loss: 0.2417, train_loss: 0.4775, acc: 0.4151\n",
      "phase: train, batch: 5500, loss: 0.2656, train_loss: 0.4811, acc: 0.4567\n",
      "phase: train, batch: 6000, loss: 0.2893, train_loss: 0.4784, acc: 0.4983\n",
      "phase: train, batch: 6500, loss: 0.3132, train_loss: 0.4808, acc: 0.5399\n",
      "phase: train, batch: 7000, loss: 0.3366, train_loss: 0.4726, acc: 0.5816\n",
      "phase: train, batch: 7500, loss: 0.3598, train_loss: 0.4682, acc: 0.6234\n",
      "phase: train, batch: 8000, loss: 0.3837, train_loss: 0.4808, acc: 0.6651\n",
      "phase: train, batch: 8500, loss: 0.4074, train_loss: 0.4768, acc: 0.7067\n",
      "phase: train, batch: 9000, loss: 0.4307, train_loss: 0.4708, acc: 0.7484\n",
      "phase: train, batch: 9500, loss: 0.4543, train_loss: 0.4749, acc: 0.7900\n",
      "phase: train, batch: 10000, loss: 0.4775, train_loss: 0.4682, acc: 0.8318\n",
      "train loss: 0.4812, acc: 0.8382\n",
      "validation loss: 0.8366, acc: 0.7467\n",
      "Epoch 4/4\n",
      "----------\n",
      "phase: train, batch: 500, loss: 0.0230, train_loss: 0.4627, acc: 0.0419\n",
      "phase: train, batch: 1000, loss: 0.0458, train_loss: 0.4609, acc: 0.0837\n",
      "phase: train, batch: 1500, loss: 0.0697, train_loss: 0.4806, acc: 0.1252\n",
      "phase: train, batch: 2000, loss: 0.0931, train_loss: 0.4729, acc: 0.1668\n",
      "phase: train, batch: 2500, loss: 0.1164, train_loss: 0.4695, acc: 0.2087\n",
      "phase: train, batch: 3000, loss: 0.1401, train_loss: 0.4767, acc: 0.2503\n",
      "phase: train, batch: 3500, loss: 0.1634, train_loss: 0.4695, acc: 0.2920\n",
      "phase: train, batch: 4000, loss: 0.1866, train_loss: 0.4683, acc: 0.3338\n",
      "phase: train, batch: 4500, loss: 0.2095, train_loss: 0.4613, acc: 0.3756\n",
      "phase: train, batch: 5000, loss: 0.2325, train_loss: 0.4645, acc: 0.4174\n",
      "phase: train, batch: 5500, loss: 0.2557, train_loss: 0.4671, acc: 0.4593\n",
      "phase: train, batch: 6000, loss: 0.2788, train_loss: 0.4652, acc: 0.5011\n",
      "phase: train, batch: 6500, loss: 0.3018, train_loss: 0.4644, acc: 0.5429\n",
      "phase: train, batch: 7000, loss: 0.3246, train_loss: 0.4594, acc: 0.5848\n",
      "phase: train, batch: 7500, loss: 0.3480, train_loss: 0.4721, acc: 0.6265\n",
      "phase: train, batch: 8000, loss: 0.3711, train_loss: 0.4650, acc: 0.6684\n",
      "phase: train, batch: 8500, loss: 0.3941, train_loss: 0.4629, acc: 0.7102\n",
      "phase: train, batch: 9000, loss: 0.4172, train_loss: 0.4658, acc: 0.7521\n",
      "phase: train, batch: 9500, loss: 0.4403, train_loss: 0.4652, acc: 0.7940\n",
      "phase: train, batch: 10000, loss: 0.4628, train_loss: 0.4541, acc: 0.8360\n",
      "train loss: 0.4665, acc: 0.8425\n",
      "validation loss: 0.8078, acc: 0.7603\n",
      "Test loss: 1.020965\tTest accruacy: 71.013%\n",
      "CPU times: user 1h 5min 45s, sys: 21min 39s, total: 1h 27min 24s\n",
      "Wall time: 3h 34min 50s\n"
     ]
    }
   ],
   "source": [
    "%%time\n",
    "#model.load_state_dict(torch.load('res_18.pre-trained_1'))\n",
    "\n",
    "criterion = nn.CrossEntropyLoss()\n",
    "optimizer = optim.Adam(model.parameters(), lr=1e-3)\n",
    "model = train_model(model, criterion, optimizer, num_epochs=4)\n",
    "evaluate(model, criterion, dataloaders['test'])"
   ]
  },
  {
   "cell_type": "code",
   "execution_count": 21,
   "metadata": {},
   "outputs": [],
   "source": [
    "torch.save(model.state_dict(), 'res_18.pre-trained_2')"
   ]
  },
  {
   "cell_type": "code",
   "execution_count": null,
   "metadata": {},
   "outputs": [
    {
     "name": "stdout",
     "output_type": "stream",
     "text": [
      "Epoch 1/1\n",
      "----------\n",
      "phase: train, batch: 500, loss: 0.0220, train_loss: 0.4434, acc: 0.0422\n",
      "phase: train, batch: 1000, loss: 0.0435, train_loss: 0.4329, acc: 0.0846\n",
      "phase: train, batch: 1500, loss: 0.0643, train_loss: 0.4192, acc: 0.1271\n",
      "phase: train, batch: 2000, loss: 0.0852, train_loss: 0.4213, acc: 0.1697\n",
      "phase: train, batch: 2500, loss: 0.1064, train_loss: 0.4282, acc: 0.2122\n",
      "phase: train, batch: 3000, loss: 0.1273, train_loss: 0.4214, acc: 0.2548\n",
      "phase: train, batch: 3500, loss: 0.1487, train_loss: 0.4300, acc: 0.2973\n",
      "phase: train, batch: 4000, loss: 0.1693, train_loss: 0.4169, acc: 0.3399\n",
      "phase: train, batch: 4500, loss: 0.1905, train_loss: 0.4263, acc: 0.3824\n",
      "phase: train, batch: 5000, loss: 0.2110, train_loss: 0.4126, acc: 0.4251\n",
      "phase: train, batch: 5500, loss: 0.2319, train_loss: 0.4220, acc: 0.4677\n",
      "phase: train, batch: 6000, loss: 0.2530, train_loss: 0.4251, acc: 0.5102\n",
      "phase: train, batch: 6500, loss: 0.2744, train_loss: 0.4311, acc: 0.5526\n",
      "phase: train, batch: 7000, loss: 0.2952, train_loss: 0.4201, acc: 0.5952\n",
      "phase: train, batch: 7500, loss: 0.3167, train_loss: 0.4334, acc: 0.6375\n",
      "phase: train, batch: 8000, loss: 0.3372, train_loss: 0.4125, acc: 0.6801\n",
      "phase: train, batch: 8500, loss: 0.3583, train_loss: 0.4257, acc: 0.7226\n"
     ]
    }
   ],
   "source": [
    "%%time\n",
    "#model.load_state_dict(torch.load('res_18.pre-trained_1'))\n",
    "\n",
    "criterion = nn.CrossEntropyLoss()\n",
    "optimizer = optim.Adam(model.parameters(), lr=1e-5)\n",
    "model = train_model(model, criterion, optimizer, num_epochs=1)\n",
    "evaluate(model, criterion, dataloaders['test'])"
   ]
  },
  {
   "cell_type": "code",
   "execution_count": 23,
   "metadata": {},
   "outputs": [],
   "source": [
    "torch.save(model.state_dict(), 'res_18.pre-trained_3')\n",
    "#model.load_state_dict(torch.load('model.pre-trained_3'))"
   ]
  },
  {
   "cell_type": "code",
   "execution_count": 24,
   "metadata": {},
   "outputs": [
    {
     "name": "stdout",
     "output_type": "stream",
     "text": [
      "Test loss: 0.992744\tTest accruacy: 71.774%\n",
      "CPU times: user 17.8 s, sys: 6.22 s, total: 24 s\n",
      "Wall time: 24.4 s\n"
     ]
    }
   ],
   "source": [
    "%%time\n",
    "evaluate(model, criterion, dataloaders['test'])"
   ]
  },
  {
   "cell_type": "markdown",
   "metadata": {},
   "source": [
    "### 5. Make predictions on sample test images¶"
   ]
  },
  {
   "cell_type": "code",
   "execution_count": 25,
   "metadata": {},
   "outputs": [],
   "source": [
    "validation_img_paths = [\"./source_data_2/test/00/00243.ppm\",\n",
    "                        \"./source_data_2/test/01/00001.ppm\",\n",
    "                        \"./source_data_2/test/02/00034.ppm\"]\n",
    "\n",
    "img_list = [Image.open(img_path) for img_path in validation_img_paths]\n",
    "validation_classes = [0, 1, 2]"
   ]
  },
  {
   "cell_type": "code",
   "execution_count": 26,
   "metadata": {},
   "outputs": [],
   "source": [
    "validation_batch = torch.stack([data_transform(img).to(device)\n",
    "                                for img in img_list])"
   ]
  },
  {
   "cell_type": "code",
   "execution_count": 27,
   "metadata": {},
   "outputs": [],
   "source": [
    "pred_logits_tensor = model(validation_batch)\n",
    "pred_probs = F.softmax(pred_logits_tensor, dim=1).cpu().data.numpy()"
   ]
  },
  {
   "cell_type": "code",
   "execution_count": 28,
   "metadata": {},
   "outputs": [
    {
     "data": {
      "image/png": "[encoded data removed]",
      "text/plain": [
       "<Figure size 720x216 with 3 Axes>"
      ]
     },
     "metadata": {},
     "output_type": "display_data"
    }
   ],
   "source": [
    "fig, axs = plt.subplots(1, len(img_list), figsize=(10, 3))\n",
    "for i, img in enumerate(img_list):\n",
    "    ax = axs[i]\n",
    "    ax.axis('off')\n",
    "    maxConfidenceValue = np.amax(pred_probs[i,:])\n",
    "    maxConfidenceClass = np.where(pred_probs[i,:] == maxConfidenceValue)[0][0]\n",
    "    color = 'green'\n",
    "    if maxConfidenceClass != validation_classes[i]:\n",
    "        color = 'red'\n",
    "    ax.set_title(\"GT: {}, Top: {} ({:.2f}%)\".format(validation_classes[i], maxConfidenceClass, maxConfidenceValue*100), color=color)\n",
    "    ax.imshow(img)"
   ]
  },
  {
   "cell_type": "code",
   "execution_count": null,
   "metadata": {},
   "outputs": [],
   "source": [
    "currentDT = datetime.datetime.now()\n",
    "print (str(currentDT))"
   ]
  }
 ],
 "metadata": {
  "kernelspec": {
   "display_name": "conda_pytorch_p36",
   "language": "python",
   "name": "conda_pytorch_p36"
  },
  "language_info": {
   "codemirror_mode": {
    "name": "ipython",
    "version": 3
   },
   "file_extension": ".py",
   "mimetype": "text/x-python",
   "name": "python",
   "nbconvert_exporter": "python",
   "pygments_lexer": "ipython3",
   "version": "3.6.5"
  }
 },
 "nbformat": 4,
 "nbformat_minor": 4
}
